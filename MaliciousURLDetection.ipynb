{
  "nbformat": 4,
  "nbformat_minor": 0,
  "metadata": {
    "colab": {
      "name": "MaliciousURLDetection.ipynb",
      "provenance": []
    },
    "kernelspec": {
      "name": "python3",
      "display_name": "Python 3"
    },
    "language_info": {
      "name": "python"
    },
    "accelerator": "TPU"
  },
  "cells": [
    {
      "cell_type": "code",
      "metadata": {
        "colab": {
          "base_uri": "https://localhost:8080/"
        },
        "id": "PuUI5jHkJ7Oe",
        "outputId": "1565e573-a291-440a-9527-be2f4482393b"
      },
      "source": [
        "!pip install -U plotly\n",
        "!pip install tldextract -q\n",
        "\n",
        "import numpy as np\n",
        "import pandas as pd\n",
        "import matplotlib.pyplot as plt\n",
        "import plotly.graph_objects as go\n",
        "import plotly.io as pio\n",
        "from plotly.subplots import make_subplots\n",
        "import random\n",
        "import os\n",
        "import tldextract\n",
        "\n",
        "import tensorflow as tf\n",
        "from tensorflow.python.util import deprecation\n",
        "from sklearn.model_selection import train_test_split\n",
        "from tensorflow.keras.preprocessing.text import Tokenizer\n",
        "from tensorflow.keras.preprocessing.sequence import pad_sequences\n",
        "from tensorflow.keras import models, layers, backend, metrics\n",
        "from tensorflow.keras.callbacks import EarlyStopping\n",
        "from sklearn.metrics import confusion_matrix, classification_report, roc_curve, auc , plot_roc_curve\n",
        "\n",
        "os.environ['PYTHONHASHSEED'] = '0'\n",
        "os.environ['TF_CPP_MIN_LOG_LEVEL'] = '2'\n",
        "np.random.seed(0)\n",
        "random.seed(0)\n",
        "tf.random.set_seed(0)\n",
        "\n",
        "%config InlineBackend.figure_format = 'retina'\n",
        "pd.set_option('max_colwidth', 50)\n",
        "pio.templates.default = \"presentation\"\n",
        "pd.options.plotting.backend = \"plotly\"\n",
        "deprecation._PRINT_DEPRECATION_WARNINGS = False"
      ],
      "execution_count": null,
      "outputs": [
        {
          "output_type": "stream",
          "name": "stdout",
          "text": [
            "Requirement already satisfied: plotly in /usr/local/lib/python3.7/dist-packages (4.4.1)\n",
            "Collecting plotly\n",
            "  Downloading plotly-5.4.0-py2.py3-none-any.whl (25.3 MB)\n",
            "\u001b[K     |████████████████████████████████| 25.3 MB 64.0 MB/s \n",
            "\u001b[?25hRequirement already satisfied: six in /usr/local/lib/python3.7/dist-packages (from plotly) (1.15.0)\n",
            "Collecting tenacity>=6.2.0\n",
            "  Downloading tenacity-8.0.1-py3-none-any.whl (24 kB)\n",
            "Installing collected packages: tenacity, plotly\n",
            "  Attempting uninstall: plotly\n",
            "    Found existing installation: plotly 4.4.1\n",
            "    Uninstalling plotly-4.4.1:\n",
            "      Successfully uninstalled plotly-4.4.1\n",
            "Successfully installed plotly-5.4.0 tenacity-8.0.1\n",
            "\u001b[K     |████████████████████████████████| 87 kB 2.9 MB/s \n",
            "\u001b[?25h"
          ]
        }
      ]
    },
    {
      "cell_type": "code",
      "metadata": {
        "colab": {
          "base_uri": "https://localhost:8080/",
          "height": 204
        },
        "id": "VCu4ehZ2KH45",
        "outputId": "63611359-2402-41d2-bfad-873d13694d3d"
      },
      "source": [
        "data = pd.read_csv('data.csv')\n",
        "data.head()"
      ],
      "execution_count": null,
      "outputs": [
        {
          "output_type": "execute_result",
          "data": {
            "text/html": [
              "<div>\n",
              "<style scoped>\n",
              "    .dataframe tbody tr th:only-of-type {\n",
              "        vertical-align: middle;\n",
              "    }\n",
              "\n",
              "    .dataframe tbody tr th {\n",
              "        vertical-align: top;\n",
              "    }\n",
              "\n",
              "    .dataframe thead th {\n",
              "        text-align: right;\n",
              "    }\n",
              "</style>\n",
              "<table border=\"1\" class=\"dataframe\">\n",
              "  <thead>\n",
              "    <tr style=\"text-align: right;\">\n",
              "      <th></th>\n",
              "      <th>url</th>\n",
              "      <th>label</th>\n",
              "    </tr>\n",
              "  </thead>\n",
              "  <tbody>\n",
              "    <tr>\n",
              "      <th>0</th>\n",
              "      <td>diaryofagameaddict.com</td>\n",
              "      <td>bad</td>\n",
              "    </tr>\n",
              "    <tr>\n",
              "      <th>1</th>\n",
              "      <td>espdesign.com.au</td>\n",
              "      <td>bad</td>\n",
              "    </tr>\n",
              "    <tr>\n",
              "      <th>2</th>\n",
              "      <td>iamagameaddict.com</td>\n",
              "      <td>bad</td>\n",
              "    </tr>\n",
              "    <tr>\n",
              "      <th>3</th>\n",
              "      <td>kalantzis.net</td>\n",
              "      <td>bad</td>\n",
              "    </tr>\n",
              "    <tr>\n",
              "      <th>4</th>\n",
              "      <td>slightlyoffcenter.net</td>\n",
              "      <td>bad</td>\n",
              "    </tr>\n",
              "  </tbody>\n",
              "</table>\n",
              "</div>"
            ],
            "text/plain": [
              "                      url label\n",
              "0  diaryofagameaddict.com   bad\n",
              "1        espdesign.com.au   bad\n",
              "2      iamagameaddict.com   bad\n",
              "3           kalantzis.net   bad\n",
              "4   slightlyoffcenter.net   bad"
            ]
          },
          "metadata": {},
          "execution_count": 2
        }
      ]
    },
    {
      "cell_type": "code",
      "metadata": {
        "id": "8aP4FrRyKMVR"
      },
      "source": [
        "val_size = 0.2\n",
        "train_data, val_data = train_test_split(data, test_size=val_size, stratify=data['label'], random_state=0)"
      ],
      "execution_count": null,
      "outputs": []
    },
    {
      "cell_type": "code",
      "metadata": {
        "colab": {
          "base_uri": "https://localhost:8080/"
        },
        "id": "eM_iElpJKQVf",
        "outputId": "72f55169-aea8-4aa5-d432-1bd8519dedbc"
      },
      "source": [
        "print(data.label.value_counts())"
      ],
      "execution_count": null,
      "outputs": [
        {
          "output_type": "stream",
          "name": "stdout",
          "text": [
            "good    344821\n",
            "bad      75643\n",
            "Name: label, dtype: int64\n"
          ]
        }
      ]
    },
    {
      "cell_type": "code",
      "metadata": {
        "id": "iSgXYlV9KZ2F"
      },
      "source": [
        "def parsed_url(url):\n",
        "    subdomain, domain, domain_suffix = ('<empty>' if extracted == '' else extracted for extracted in tldextract.extract(url))\n",
        "    return [subdomain, domain, domain_suffix]\n",
        "\n",
        "def extract_url(data):\n",
        "    extract_url_data = [parsed_url(url) for url in data['url']]\n",
        "    extract_url_data = pd.DataFrame(extract_url_data, columns=['subdomain', 'domain', 'domain_suffix'])\n",
        "    data = data.reset_index(drop=True)\n",
        "    data = pd.concat([data, extract_url_data], axis=1)\n",
        "    return data\n",
        "\n",
        "data = extract_url(data)\n",
        "train_data = extract_url(train_data)\n",
        "val_data = extract_url(val_data)"
      ],
      "execution_count": null,
      "outputs": []
    },
    {
      "cell_type": "code",
      "metadata": {
        "colab": {
          "base_uri": "https://localhost:8080/"
        },
        "id": "Mwmm0nJAKawC",
        "outputId": "2f31c84f-615a-4967-f27b-330addf93081"
      },
      "source": [
        "print('Unique Domains :',data.domain.nunique())\n",
        "print('Unique Subdomains :',data.subdomain.nunique())\n",
        "print('Unique Domain Suffixes: ',data.domain_suffix.nunique())"
      ],
      "execution_count": null,
      "outputs": [
        {
          "output_type": "stream",
          "name": "stdout",
          "text": [
            "Unique Domains : 114880\n",
            "Unique Subdomains : 27733\n",
            "Unique Domain Suffixes:  701\n"
          ]
        }
      ]
    },
    {
      "cell_type": "code",
      "metadata": {
        "colab": {
          "base_uri": "https://localhost:8080/"
        },
        "id": "_lXwDIZOK0d0",
        "outputId": "3ae163ea-e312-4488-ad4b-965d29a5e3d0"
      },
      "source": [
        "tokenizer = Tokenizer(filters='', char_level=True, lower=False, oov_token=1)\n",
        "tokenizer.fit_on_texts(train_data['url'])\n",
        "n_char = len(tokenizer.word_index.keys())\n",
        "\n",
        "train_seq = tokenizer.texts_to_sequences(train_data['url'])\n",
        "val_seq = tokenizer.texts_to_sequences(val_data['url'])\n",
        "\n",
        "print(train_seq[0])"
      ],
      "execution_count": null,
      "outputs": [
        {
          "output_type": "stream",
          "name": "stdout",
          "text": [
            "[12, 5, 9, 7, 2, 10, 15, 2, 16, 13, 8, 3, 12, 6, 26, 2, 14, 8, 3, 12, 2, 6, 25, 5, 14, 2, 6, 19, 17, 16, 4, 7, 2, 6, 10, 21, 8, 6, 14, 3, 20, 5, 11, 13, 17, 18, 17]\n"
          ]
        }
      ]
    },
    {
      "cell_type": "code",
      "metadata": {
        "colab": {
          "base_uri": "https://localhost:8080/"
        },
        "id": "Cq3l7gg-K3tN",
        "outputId": "9421b152-5b1c-480c-827b-6b583592e5be"
      },
      "source": [
        "sequence_length = np.array([len(i) for i in train_seq])\n",
        "sequence_length = np.percentile(sequence_length, 99).astype(int)\n",
        "\n",
        "train_seq = pad_sequences(train_seq, padding='post', maxlen=sequence_length)\n",
        "val_seq = pad_sequences(val_seq, padding='post', maxlen=sequence_length)\n",
        "\n",
        "print(f'{train_seq[0]}')"
      ],
      "execution_count": null,
      "outputs": [
        {
          "output_type": "stream",
          "name": "stdout",
          "text": [
            "[12  5  9  7  2 10 15  2 16 13  8  3 12  6 26  2 14  8  3 12  2  6 25  5\n",
            " 14  2  6 19 17 16  4  7  2  6 10 21  8  6 14  3 20  5 11 13 17 18 17  0\n",
            "  0  0  0  0  0  0  0  0  0  0  0  0  0  0  0  0  0  0  0  0  0  0  0  0\n",
            "  0  0  0  0  0  0  0  0  0  0  0  0  0  0  0  0  0  0  0  0  0  0  0  0\n",
            "  0  0  0  0  0  0  0  0  0  0  0  0  0  0  0  0  0  0  0  0  0  0  0  0\n",
            "  0  0  0  0  0  0  0  0  0  0  0  0  0  0  0  0  0  0  0  0  0  0  0  0\n",
            "  0  0  0  0  0  0  0  0  0  0  0  0  0  0  0  0  0]\n"
          ]
        }
      ]
    },
    {
      "cell_type": "code",
      "metadata": {
        "id": "c3qR-ziZK67k"
      },
      "source": [
        "unique_value = {}\n",
        "for feature in ['subdomain', 'domain', 'domain_suffix']:\n",
        "    label_index = {label: index for index, label in enumerate(train_data[feature].unique())}\n",
        "    label_index['<unknown>'] = list(label_index.values())[-1] + 1\n",
        "    unique_value[feature] = label_index['<unknown>']\n",
        "    train_data.loc[:, feature] = [label_index[val] if val in label_index else label_index['<unknown>'] for val in train_data.loc[:, feature]]\n",
        "    val_data.loc[:, feature] = [label_index[val] if val in label_index else label_index['<unknown>'] for val in val_data.loc[:, feature]]"
      ],
      "execution_count": null,
      "outputs": []
    },
    {
      "cell_type": "code",
      "metadata": {
        "colab": {
          "base_uri": "https://localhost:8080/",
          "height": 204
        },
        "id": "ncmukgM5K-4U",
        "outputId": "074302aa-eb6a-414a-9b08-c4487c2ec2c2"
      },
      "source": [
        "for data in [train_data, val_data]:\n",
        "    data.loc[:, 'label'] = [0 if i == 'good' else 1 for i in data.loc[:, 'label']]\n",
        "    \n",
        "train_data.head()"
      ],
      "execution_count": null,
      "outputs": [
        {
          "output_type": "execute_result",
          "data": {
            "text/html": [
              "<div>\n",
              "<style scoped>\n",
              "    .dataframe tbody tr th:only-of-type {\n",
              "        vertical-align: middle;\n",
              "    }\n",
              "\n",
              "    .dataframe tbody tr th {\n",
              "        vertical-align: top;\n",
              "    }\n",
              "\n",
              "    .dataframe thead th {\n",
              "        text-align: right;\n",
              "    }\n",
              "</style>\n",
              "<table border=\"1\" class=\"dataframe\">\n",
              "  <thead>\n",
              "    <tr style=\"text-align: right;\">\n",
              "      <th></th>\n",
              "      <th>url</th>\n",
              "      <th>label</th>\n",
              "      <th>subdomain</th>\n",
              "      <th>domain</th>\n",
              "      <th>domain_suffix</th>\n",
              "    </tr>\n",
              "  </thead>\n",
              "  <tbody>\n",
              "    <tr>\n",
              "      <th>0</th>\n",
              "      <td>mister-ed.com/welcome/file/update/rbc/login.php</td>\n",
              "      <td>1</td>\n",
              "      <td>0</td>\n",
              "      <td>0</td>\n",
              "      <td>0</td>\n",
              "    </tr>\n",
              "    <tr>\n",
              "      <th>1</th>\n",
              "      <td>ip-23-229-147-12.ip.secureserver.net/public/fi...</td>\n",
              "      <td>1</td>\n",
              "      <td>1</td>\n",
              "      <td>1</td>\n",
              "      <td>1</td>\n",
              "    </tr>\n",
              "    <tr>\n",
              "      <th>2</th>\n",
              "      <td>facebok-info.com/unitedkingdom/log.php</td>\n",
              "      <td>1</td>\n",
              "      <td>0</td>\n",
              "      <td>2</td>\n",
              "      <td>0</td>\n",
              "    </tr>\n",
              "    <tr>\n",
              "      <th>3</th>\n",
              "      <td>independent.co.uk/news/obituaries/john-gross-g...</td>\n",
              "      <td>0</td>\n",
              "      <td>0</td>\n",
              "      <td>3</td>\n",
              "      <td>2</td>\n",
              "    </tr>\n",
              "    <tr>\n",
              "      <th>4</th>\n",
              "      <td>facebook.com/geoffrey.gray</td>\n",
              "      <td>0</td>\n",
              "      <td>0</td>\n",
              "      <td>4</td>\n",
              "      <td>0</td>\n",
              "    </tr>\n",
              "  </tbody>\n",
              "</table>\n",
              "</div>"
            ],
            "text/plain": [
              "                                                 url  ...  domain_suffix\n",
              "0    mister-ed.com/welcome/file/update/rbc/login.php  ...              0\n",
              "1  ip-23-229-147-12.ip.secureserver.net/public/fi...  ...              1\n",
              "2             facebok-info.com/unitedkingdom/log.php  ...              0\n",
              "3  independent.co.uk/news/obituaries/john-gross-g...  ...              2\n",
              "4                         facebook.com/geoffrey.gray  ...              0\n",
              "\n",
              "[5 rows x 5 columns]"
            ]
          },
          "metadata": {},
          "execution_count": 10
        }
      ]
    },
    {
      "cell_type": "code",
      "metadata": {
        "id": "Kn7UGMcGLCeH"
      },
      "source": [
        "def convolution_block(x):\n",
        "    conv_3_layer = layers.Conv1D(64, 3, padding='same', activation='elu')(x)\n",
        "    conv_5_layer = layers.Conv1D(64, 5, padding='same', activation='elu')(x)\n",
        "    conv_layer = layers.concatenate([x, conv_3_layer, conv_5_layer])\n",
        "    conv_layer = layers.Flatten()(conv_layer)\n",
        "    return conv_layer\n",
        "\n",
        "def embedding_block(unique_value, size, name):\n",
        "    input_layer = layers.Input(shape=(1,), name=name + '_input')\n",
        "    embedding_layer = layers.Embedding(unique_value, size, input_length=1)(input_layer)\n",
        "    return input_layer, embedding_layer\n",
        "\n",
        "def create_model(sequence_length, n_char, unique_value):\n",
        "    input_layer = []\n",
        "    \n",
        "    sequence_input_layer = layers.Input(shape=(sequence_length,), name='url_input')\n",
        "    input_layer.append(sequence_input_layer)\n",
        "    \n",
        "    char_embedding = layers.Embedding(n_char + 1, 32, input_length=sequence_length)(sequence_input_layer)\n",
        "    conv_layer = convolution_block(char_embedding)\n",
        "    \n",
        "    entity_embedding = []\n",
        "    for key, n in unique_value.items():\n",
        "        size = 4\n",
        "        input_l, embedding_l = embedding_block(n + 1, size, key)\n",
        "        embedding_l = layers.Reshape(target_shape=(size,))(embedding_l)\n",
        "        input_layer.append(input_l)\n",
        "        entity_embedding.append(embedding_l)\n",
        "        \n",
        "    fc_layer = layers.concatenate([conv_layer, *entity_embedding])\n",
        "    fc_layer = layers.Dropout(rate=0.5)(fc_layer)\n",
        "    \n",
        "    fc_layer = layers.Dense(128, activation='elu')(fc_layer)\n",
        "    fc_layer = layers.Dropout(rate=0.2)(fc_layer)\n",
        "    \n",
        "    output_layer = layers.Dense(1, activation='sigmoid')(fc_layer)\n",
        "\n",
        "    model = models.Model(inputs=input_layer, outputs=output_layer)\n",
        "    tf.keras.optimizers.Adam(learning_rate=0.001, beta_1=0.9, beta_2=0.999, epsilon=1e-07, amsgrad=False, name='Adam')\n",
        "    model.compile(optimizer=tf.keras.optimizers.Adam(), loss='binary_crossentropy', metrics=[metrics.Precision(), metrics.Recall()])\n",
        "    return model\n",
        "\n",
        "backend.clear_session()\n",
        "os.environ['PYTHONHASHSEED'] = '0'\n",
        "np.random.seed(0)\n",
        "random.seed(0)\n",
        "tf.random.set_seed(0)\n",
        "\n",
        "model = create_model(sequence_length, n_char, unique_value)"
      ],
      "execution_count": null,
      "outputs": []
    },
    {
      "cell_type": "code",
      "metadata": {
        "colab": {
          "base_uri": "https://localhost:8080/"
        },
        "id": "HKhiMXw0LRyh",
        "outputId": "e83028a8-90db-45b6-e0ec-9ff9ac8cae9f"
      },
      "source": [
        "train_x = [train_seq, train_data['subdomain'], train_data['domain'], train_data['domain_suffix']]\n",
        "train_y = train_data['label'].values\n",
        "\n",
        "early_stopping = [EarlyStopping(monitor='val_precision', patience=5, restore_best_weights=True, mode='max')]\n",
        "history = model.fit(train_x, train_y, batch_size=1024, epochs=5, verbose=1, validation_split=0.2, shuffle=True, callbacks=early_stopping)\n",
        "model.save('model.h5')"
      ],
      "execution_count": null,
      "outputs": [
        {
          "output_type": "stream",
          "name": "stdout",
          "text": [
            "Epoch 1/5\n",
            "263/263 [==============================] - 374s 1s/step - loss: 0.2456 - precision: 0.8349 - recall: 0.5763 - val_loss: 0.1533 - val_precision: 0.8897 - val_recall: 0.7715\n",
            "Epoch 2/5\n",
            "263/263 [==============================] - 367s 1s/step - loss: 0.1350 - precision: 0.9051 - recall: 0.7985 - val_loss: 0.1100 - val_precision: 0.9352 - val_recall: 0.8295\n",
            "Epoch 3/5\n",
            "263/263 [==============================] - 376s 1s/step - loss: 0.0902 - precision: 0.9367 - recall: 0.8737 - val_loss: 0.0930 - val_precision: 0.9463 - val_recall: 0.8529\n",
            "Epoch 4/5\n",
            "263/263 [==============================] - 376s 1s/step - loss: 0.0601 - precision: 0.9597 - recall: 0.9197 - val_loss: 0.0895 - val_precision: 0.9366 - val_recall: 0.8749\n",
            "Epoch 5/5\n",
            "263/263 [==============================] - 371s 1s/step - loss: 0.0418 - precision: 0.9726 - recall: 0.9459 - val_loss: 0.0933 - val_precision: 0.9219 - val_recall: 0.8809\n"
          ]
        }
      ]
    },
    {
      "cell_type": "code",
      "metadata": {
        "id": "Jr8lVq2m9JHG",
        "colab": {
          "base_uri": "https://localhost:8080/"
        },
        "outputId": "9d079c70-f636-4b9a-96a1-7e5b7737627a"
      },
      "source": [
        "model.summary()"
      ],
      "execution_count": null,
      "outputs": [
        {
          "output_type": "stream",
          "name": "stdout",
          "text": [
            "Model: \"model\"\n",
            "__________________________________________________________________________________________________\n",
            " Layer (type)                   Output Shape         Param #     Connected to                     \n",
            "==================================================================================================\n",
            " url_input (InputLayer)         [(None, 161)]        0           []                               \n",
            "                                                                                                  \n",
            " embedding (Embedding)          (None, 161, 32)      5152        ['url_input[0][0]']              \n",
            "                                                                                                  \n",
            " conv1d (Conv1D)                (None, 161, 64)      6208        ['embedding[0][0]']              \n",
            "                                                                                                  \n",
            " conv1d_1 (Conv1D)              (None, 161, 64)      10304       ['embedding[0][0]']              \n",
            "                                                                                                  \n",
            " subdomain_input (InputLayer)   [(None, 1)]          0           []                               \n",
            "                                                                                                  \n",
            " domain_input (InputLayer)      [(None, 1)]          0           []                               \n",
            "                                                                                                  \n",
            " domain_suffix_input (InputLaye  [(None, 1)]         0           []                               \n",
            " r)                                                                                               \n",
            "                                                                                                  \n",
            " concatenate (Concatenate)      (None, 161, 160)     0           ['embedding[0][0]',              \n",
            "                                                                  'conv1d[0][0]',                 \n",
            "                                                                  'conv1d_1[0][0]']               \n",
            "                                                                                                  \n",
            " embedding_1 (Embedding)        (None, 1, 4)         93000       ['subdomain_input[0][0]']        \n",
            "                                                                                                  \n",
            " embedding_2 (Embedding)        (None, 1, 4)         392944      ['domain_input[0][0]']           \n",
            "                                                                                                  \n",
            " embedding_3 (Embedding)        (None, 1, 4)         2648        ['domain_suffix_input[0][0]']    \n",
            "                                                                                                  \n",
            " flatten (Flatten)              (None, 25760)        0           ['concatenate[0][0]']            \n",
            "                                                                                                  \n",
            " reshape (Reshape)              (None, 4)            0           ['embedding_1[0][0]']            \n",
            "                                                                                                  \n",
            " reshape_1 (Reshape)            (None, 4)            0           ['embedding_2[0][0]']            \n",
            "                                                                                                  \n",
            " reshape_2 (Reshape)            (None, 4)            0           ['embedding_3[0][0]']            \n",
            "                                                                                                  \n",
            " concatenate_1 (Concatenate)    (None, 25772)        0           ['flatten[0][0]',                \n",
            "                                                                  'reshape[0][0]',                \n",
            "                                                                  'reshape_1[0][0]',              \n",
            "                                                                  'reshape_2[0][0]']              \n",
            "                                                                                                  \n",
            " dropout (Dropout)              (None, 25772)        0           ['concatenate_1[0][0]']          \n",
            "                                                                                                  \n",
            " dense (Dense)                  (None, 128)          3298944     ['dropout[0][0]']                \n",
            "                                                                                                  \n",
            " dropout_1 (Dropout)            (None, 128)          0           ['dense[0][0]']                  \n",
            "                                                                                                  \n",
            " dense_1 (Dense)                (None, 1)            129         ['dropout_1[0][0]']              \n",
            "                                                                                                  \n",
            "==================================================================================================\n",
            "Total params: 3,809,329\n",
            "Trainable params: 3,809,329\n",
            "Non-trainable params: 0\n",
            "__________________________________________________________________________________________________\n"
          ]
        }
      ]
    },
    {
      "cell_type": "code",
      "metadata": {
        "colab": {
          "base_uri": "https://localhost:8080/",
          "height": 542
        },
        "id": "HCetI_nULVR2",
        "outputId": "479f5c03-989f-46f8-f39c-df9d8c5f8b3e"
      },
      "source": [
        "fig = make_subplots(3, 1, subplot_titles=('loss', 'precision', 'recall'))\n",
        "\n",
        "for index, key in enumerate(['loss', 'precision', 'recall']):\n",
        "    fig.add_trace(go.Scatter(\n",
        "        x=list(range(len(history.history[key]))),\n",
        "        y=history.history[key],\n",
        "        mode='lines+markers',\n",
        "        name=key\n",
        "    ), index + 1, 1)\n",
        "    \n",
        "    fig.add_trace(go.Scatter(\n",
        "        x=list(range(len(history.history[f'val_{key}']))),\n",
        "        y=history.history[f'val_{key}'],\n",
        "        mode='lines+markers',\n",
        "        name=f'val {key}'\n",
        "    ), index + 1, 1)\n",
        "\n",
        "fig.show()"
      ],
      "execution_count": null,
      "outputs": [
        {
          "output_type": "display_data",
          "data": {
            "text/html": [
              "<html>\n",
              "<head><meta charset=\"utf-8\" /></head>\n",
              "<body>\n",
              "    <div>            <script src=\"https://cdnjs.cloudflare.com/ajax/libs/mathjax/2.7.5/MathJax.js?config=TeX-AMS-MML_SVG\"></script><script type=\"text/javascript\">if (window.MathJax) {MathJax.Hub.Config({SVG: {font: \"STIX-Web\"}});}</script>                <script type=\"text/javascript\">window.PlotlyConfig = {MathJaxConfig: 'local'};</script>\n",
              "        <script src=\"https://cdn.plot.ly/plotly-2.6.3.min.js\"></script>                <div id=\"f2fb7a0a-67ea-4b11-a773-b6e08fa074a5\" class=\"plotly-graph-div\" style=\"height:525px; width:100%;\"></div>            <script type=\"text/javascript\">                                    window.PLOTLYENV=window.PLOTLYENV || {};                                    if (document.getElementById(\"f2fb7a0a-67ea-4b11-a773-b6e08fa074a5\")) {                    Plotly.newPlot(                        \"f2fb7a0a-67ea-4b11-a773-b6e08fa074a5\",                        [{\"mode\":\"lines+markers\",\"name\":\"loss\",\"x\":[0,1,2,3,4],\"y\":[0.24561968445777893,0.13503152132034302,0.09021815657615662,0.06009706109762192,0.04180237650871277],\"type\":\"scatter\",\"xaxis\":\"x\",\"yaxis\":\"y\"},{\"mode\":\"lines+markers\",\"name\":\"val loss\",\"x\":[0,1,2,3,4],\"y\":[0.1533350795507431,0.10996067523956299,0.09303862601518631,0.0894840732216835,0.09333719313144684],\"type\":\"scatter\",\"xaxis\":\"x\",\"yaxis\":\"y\"},{\"mode\":\"lines+markers\",\"name\":\"precision\",\"x\":[0,1,2,3,4],\"y\":[0.8348983526229858,0.9051151275634766,0.9367046356201172,0.9596777558326721,0.9726402759552002],\"type\":\"scatter\",\"xaxis\":\"x2\",\"yaxis\":\"y2\"},{\"mode\":\"lines+markers\",\"name\":\"val precision\",\"x\":[0,1,2,3,4],\"y\":[0.8897382020950317,0.9351765513420105,0.9463185667991638,0.9365853667259216,0.9218763709068298],\"type\":\"scatter\",\"xaxis\":\"x2\",\"yaxis\":\"y2\"},{\"mode\":\"lines+markers\",\"name\":\"recall\",\"x\":[0,1,2,3,4],\"y\":[0.5763149261474609,0.7984683513641357,0.8736892342567444,0.919701099395752,0.9459169507026672],\"type\":\"scatter\",\"xaxis\":\"x3\",\"yaxis\":\"y3\"},{\"mode\":\"lines+markers\",\"name\":\"val recall\",\"x\":[0,1,2,3,4],\"y\":[0.7714995741844177,0.8294945955276489,0.8529411554336548,0.8748964667320251,0.8808616399765015],\"type\":\"scatter\",\"xaxis\":\"x3\",\"yaxis\":\"y3\"}],                        {\"template\":{\"data\":{\"pie\":[{\"automargin\":true,\"type\":\"pie\"}],\"scatter\":[{\"line\":{\"width\":3},\"marker\":{\"size\":9},\"type\":\"scatter\"}],\"scatter3d\":[{\"line\":{\"width\":3},\"marker\":{\"size\":9},\"type\":\"scatter3d\"}],\"scattergeo\":[{\"line\":{\"width\":3},\"marker\":{\"size\":9},\"type\":\"scattergeo\"}],\"scattergl\":[{\"line\":{\"width\":3},\"marker\":{\"size\":9},\"type\":\"scattergl\"}],\"scatterpolar\":[{\"line\":{\"width\":3},\"marker\":{\"size\":9},\"type\":\"scatterpolar\"}],\"scatterpolargl\":[{\"line\":{\"width\":3},\"marker\":{\"size\":9},\"type\":\"scatterpolargl\"}],\"scatterternary\":[{\"line\":{\"width\":3},\"marker\":{\"size\":9},\"type\":\"scatterternary\"}],\"table\":[{\"cells\":{\"height\":30},\"header\":{\"height\":36},\"type\":\"table\"}]},\"layout\":{\"font\":{\"size\":18},\"xaxis\":{\"title\":{\"standoff\":15}},\"yaxis\":{\"title\":{\"standoff\":15}}}},\"xaxis\":{\"anchor\":\"y\",\"domain\":[0.0,1.0]},\"yaxis\":{\"anchor\":\"x\",\"domain\":[0.7777777777777778,1.0]},\"xaxis2\":{\"anchor\":\"y2\",\"domain\":[0.0,1.0]},\"yaxis2\":{\"anchor\":\"x2\",\"domain\":[0.3888888888888889,0.6111111111111112]},\"xaxis3\":{\"anchor\":\"y3\",\"domain\":[0.0,1.0]},\"yaxis3\":{\"anchor\":\"x3\",\"domain\":[0.0,0.22222222222222224]},\"annotations\":[{\"font\":{\"size\":16},\"showarrow\":false,\"text\":\"loss\",\"x\":0.5,\"xanchor\":\"center\",\"xref\":\"paper\",\"y\":1.0,\"yanchor\":\"bottom\",\"yref\":\"paper\"},{\"font\":{\"size\":16},\"showarrow\":false,\"text\":\"precision\",\"x\":0.5,\"xanchor\":\"center\",\"xref\":\"paper\",\"y\":0.6111111111111112,\"yanchor\":\"bottom\",\"yref\":\"paper\"},{\"font\":{\"size\":16},\"showarrow\":false,\"text\":\"recall\",\"x\":0.5,\"xanchor\":\"center\",\"xref\":\"paper\",\"y\":0.22222222222222224,\"yanchor\":\"bottom\",\"yref\":\"paper\"}]},                        {\"responsive\": true}                    ).then(function(){\n",
              "                            \n",
              "var gd = document.getElementById('f2fb7a0a-67ea-4b11-a773-b6e08fa074a5');\n",
              "var x = new MutationObserver(function (mutations, observer) {{\n",
              "        var display = window.getComputedStyle(gd).display;\n",
              "        if (!display || display === 'none') {{\n",
              "            console.log([gd, 'removed!']);\n",
              "            Plotly.purge(gd);\n",
              "            observer.disconnect();\n",
              "        }}\n",
              "}});\n",
              "\n",
              "// Listen for the removal of the full notebook cells\n",
              "var notebookContainer = gd.closest('#notebook-container');\n",
              "if (notebookContainer) {{\n",
              "    x.observe(notebookContainer, {childList: true});\n",
              "}}\n",
              "\n",
              "// Listen for the clearing of the current output cell\n",
              "var outputEl = gd.closest('.output');\n",
              "if (outputEl) {{\n",
              "    x.observe(outputEl, {childList: true});\n",
              "}}\n",
              "\n",
              "                        })                };                            </script>        </div>\n",
              "</body>\n",
              "</html>"
            ]
          },
          "metadata": {}
        }
      ]
    },
    {
      "cell_type": "code",
      "metadata": {
        "colab": {
          "base_uri": "https://localhost:8080/"
        },
        "id": "ADX2oQuSLYWL",
        "outputId": "85df0503-01d6-4609-c794-3b58d805f5bc"
      },
      "source": [
        "val_x = [val_seq, val_data['subdomain'], val_data['domain'], val_data['domain_suffix']]\n",
        "val_y = val_data['label'].values\n",
        "\n",
        "val_pred = model.predict(val_x)\n",
        "val_pred_h = np.where(val_pred[:, 0] >= 0.5, 1, 0)\n",
        "\n",
        "print(f'Validation Data:\\n{val_data.label.value_counts()}')\n",
        "print(f'\\n\\nConfusion Matrix:\\n{confusion_matrix(val_y, val_pred_h)}')\n",
        "print(f'\\n\\nClassification Report:\\n{classification_report(val_y, val_pred_h)}')"
      ],
      "execution_count": null,
      "outputs": [
        {
          "output_type": "stream",
          "name": "stdout",
          "text": [
            "Validation Data:\n",
            "0    68964\n",
            "1    15129\n",
            "Name: label, dtype: int64\n",
            "\n",
            "\n",
            "Confusion Matrix:\n",
            "[[67365  1599]\n",
            " [ 1046 14083]]\n",
            "\n",
            "\n",
            "Classification Report:\n",
            "              precision    recall  f1-score   support\n",
            "\n",
            "           0       0.98      0.98      0.98     68964\n",
            "           1       0.90      0.93      0.91     15129\n",
            "\n",
            "    accuracy                           0.97     84093\n",
            "   macro avg       0.94      0.95      0.95     84093\n",
            "weighted avg       0.97      0.97      0.97     84093\n",
            "\n"
          ]
        }
      ]
    },
    {
      "cell_type": "code",
      "metadata": {
        "colab": {
          "base_uri": "https://localhost:8080/",
          "height": 294
        },
        "id": "0kRc7D_qdmBY",
        "outputId": "75a4e29c-fa67-4e85-dde8-647d73622121"
      },
      "source": [
        "fpr, tpr, thresholds = roc_curve(val_y, val_pred)\n",
        "roc_auc=auc(fpr,tpr)\n",
        "plt.figure()\n",
        "lw = 2\n",
        "plt.plot(\n",
        "    fpr,\n",
        "    tpr,\n",
        "    color=\"darkorange\",\n",
        "    lw=lw,\n",
        "    label=\"ROC curve (area = %0.2f)\" % roc_auc,\n",
        ")\n",
        "plt.plot([0, 1], [0, 1], color=\"navy\", lw=lw, linestyle=\"--\")\n",
        "plt.xlim([0.0, 1.0])\n",
        "plt.ylim([0.0, 1.05])\n",
        "plt.xlabel(\"False Positive Rate\")\n",
        "plt.ylabel(\"True Positive Rate\")\n",
        "plt.title(\"Receiver operating characteristic example\")\n",
        "plt.legend(loc=\"lower right\")\n",
        "plt.show()"
      ],
      "execution_count": null,
      "outputs": [
        {
          "output_type": "display_data",
          "data": {
            "image/png": "[encoded data removed]",
            "text/plain": [
              "<Figure size 432x288 with 1 Axes>"
            ]
          },
          "metadata": {
            "image/png": {
              "width": 393,
              "height": 277
            },
            "needs_background": "light"
          }
        }
      ]
    }
  ]
}